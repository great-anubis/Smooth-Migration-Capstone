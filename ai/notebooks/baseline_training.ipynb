{
 "cells": [
  {
   "cell_type": "markdown",
   "metadata": {},
   "source": [
    "# Baseline Training Notebook\n",
    "\n",
    "This notebook documents the baseline setup of the AI model for the Smooth Migration Mobile App. It includes tests of the AI-generated checklist and integration stub endpoint calls.\n",
    "\n",
    "**Sections:**\n",
    "- AI Model Output Test\n",
    "- API Endpoint Test\n",
    "- Observations & Notes\n"
   ]
  },
  {
   "cell_type": "code",
   "execution_count": 1,
   "metadata": {},
   "outputs": [
    {
     "ename": "ModuleNotFoundError",
     "evalue": "No module named 'models'",
     "output_type": "error",
     "traceback": [
      "\u001b[1;31m---------------------------------------------------------------------------\u001b[0m",
      "\u001b[1;31mModuleNotFoundError\u001b[0m                       Traceback (most recent call last)",
      "Cell \u001b[1;32mIn[1], line 9\u001b[0m\n\u001b[0;32m      2\u001b[0m \u001b[38;5;28;01mimport\u001b[39;00m \u001b[38;5;21;01mjson\u001b[39;00m\n\u001b[0;32m      4\u001b[0m \u001b[38;5;66;03m# Assuming your baseline_model.py script is in the 'models' folder and can be imported,\u001b[39;00m\n\u001b[0;32m      5\u001b[0m \u001b[38;5;66;03m# if it's designed as a module, otherwise use subprocess.call to run it.\u001b[39;00m\n\u001b[0;32m      6\u001b[0m \u001b[38;5;66;03m# For this example, let's use the code from baseline_model.py directly.\u001b[39;00m\n\u001b[0;32m      7\u001b[0m \n\u001b[0;32m      8\u001b[0m \u001b[38;5;66;03m# Sample code extracted from your baseline_model.py for testing:\u001b[39;00m\n\u001b[1;32m----> 9\u001b[0m \u001b[38;5;28;01mfrom\u001b[39;00m \u001b[38;5;21;01mmodels\u001b[39;00m\u001b[38;5;21;01m.\u001b[39;00m\u001b[38;5;21;01mbaseline_model\u001b[39;00m \u001b[38;5;28;01mimport\u001b[39;00m generate_recommendation\n\u001b[0;32m     11\u001b[0m sample_prompt \u001b[38;5;241m=\u001b[39m (\n\u001b[0;32m     12\u001b[0m     \u001b[38;5;124m\"\u001b[39m\u001b[38;5;124mGenerate a migration checklist for a user moving from the USA to Canada with a family of 3. \u001b[39m\u001b[38;5;124m\"\u001b[39m\n\u001b[0;32m     13\u001b[0m     \u001b[38;5;124m\"\u001b[39m\u001b[38;5;124mThe checklist must be divided into Pre-Departure, Departure, and Post-Departure phases. \u001b[39m\u001b[38;5;124m\"\u001b[39m\n\u001b[0;32m     14\u001b[0m     \u001b[38;5;124m\"\u001b[39m\u001b[38;5;124mEach checklist item should be a JSON object with keys \u001b[39m\u001b[38;5;124m'\u001b[39m\u001b[38;5;124mtask\u001b[39m\u001b[38;5;124m'\u001b[39m\u001b[38;5;124m, \u001b[39m\u001b[38;5;124m'\u001b[39m\u001b[38;5;124mphase\u001b[39m\u001b[38;5;124m'\u001b[39m\u001b[38;5;124m, and \u001b[39m\u001b[38;5;124m'\u001b[39m\u001b[38;5;124mapi_trigger\u001b[39m\u001b[38;5;124m'\u001b[39m\u001b[38;5;124m. \u001b[39m\u001b[38;5;124m\"\u001b[39m\n\u001b[0;32m     15\u001b[0m     \u001b[38;5;124m\"\u001b[39m\u001b[38;5;124mReturn the result as valid JSON.\u001b[39m\u001b[38;5;124m\"\u001b[39m\n\u001b[0;32m     16\u001b[0m )\n\u001b[0;32m     18\u001b[0m recommendation \u001b[38;5;241m=\u001b[39m generate_recommendation(sample_prompt)\n",
      "\u001b[1;31mModuleNotFoundError\u001b[0m: No module named 'models'"
     ]
    }
   ],
   "source": [
    "import os\n",
    "import json\n",
    "\n",
    "# Assuming your baseline_model.py script is in the 'models' folder and can be imported,\n",
    "# if it's designed as a module, otherwise use subprocess.call to run it.\n",
    "# For this example, let's use the code from baseline_model.py directly.\n",
    "\n",
    "# Sample code extracted from your baseline_model.py for testing:\n",
    "from models.baseline_model import generate_recommendation\n",
    "\n",
    "sample_prompt = (\n",
    "    \"Generate a migration checklist for a user moving from the USA to Canada with a family of 3. \"\n",
    "    \"The checklist must be divided into Pre-Departure, Departure, and Post-Departure phases. \"\n",
    "    \"Each checklist item should be a JSON object with keys 'task', 'phase', and 'api_trigger'. \"\n",
    "    \"Return the result as valid JSON.\"\n",
    ")\n",
    "\n",
    "recommendation = generate_recommendation(sample_prompt)\n",
    "print(\"Raw Generated Recommendation:\")\n",
    "print(recommendation)\n",
    "\n",
    "try:\n",
    "    checklist = json.loads(recommendation)\n",
    "    print(\"\\nParsed Checklist Structure:\")\n",
    "    print(json.dumps(checklist, indent=4))\n",
    "except json.JSONDecodeError as err:\n",
    "    print(\"Error parsing JSON:\", err)\n"
   ]
  },
  {
   "cell_type": "code",
   "execution_count": null,
   "metadata": {},
   "outputs": [],
   "source": [
    "import requests\n",
    "\n",
    "# URL for the locally running Flask API stub\n",
    "url = \"http://127.0.0.1:5000/recommendations\"\n",
    "\n",
    "# Payload for testing (a simple JSON object)\n",
    "payload = { \"test\": \"data\" }\n",
    "\n",
    "try:\n",
    "    response = requests.post(url, json=payload)\n",
    "    if response.ok:\n",
    "        data = response.json()\n",
    "        print(\"API Stub Response:\")\n",
    "        print(json.dumps(data, indent=4))\n",
    "    else:\n",
    "        print(\"API call failed with status code:\", response.status_code)\n",
    "except Exception as e:\n",
    "    print(\"Error calling API endpoint:\", e)\n"
   ]
  },
  {
   "cell_type": "markdown",
   "metadata": {},
   "source": [
    "## Observations & Notes\n",
    "\n",
    "- The baseline model outputs valid JSON.\n",
    "- The API stub endpoint successfully returns the simulated checklist and mapping data.\n",
    "- Any modifications or issues encountered during testing can be recorded here.\n"
   ]
  }
 ],
 "metadata": {
  "kernelspec": {
   "display_name": "Python 3",
   "language": "python",
   "name": "python3"
  },
  "language_info": {
   "codemirror_mode": {
    "name": "ipython",
    "version": 3
   },
   "file_extension": ".py",
   "mimetype": "text/x-python",
   "name": "python",
   "nbconvert_exporter": "python",
   "pygments_lexer": "ipython3",
   "version": "3.12.8"
  }
 },
 "nbformat": 4,
 "nbformat_minor": 2
}
